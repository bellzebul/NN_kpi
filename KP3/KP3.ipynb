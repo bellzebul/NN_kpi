{
  "nbformat": 4,
  "nbformat_minor": 0,
  "metadata": {
    "colab": {
      "provenance": [],
      "gpuType": "T4"
    },
    "kernelspec": {
      "name": "python3",
      "display_name": "Python 3"
    },
    "language_info": {
      "name": "python"
    },
    "accelerator": "GPU"
  },
  "cells": [
    {
      "cell_type": "markdown",
      "source": [
        "                                          МІНІСТЕРСТВО ОСВІТИ І НАУКИ УКРАЇНИ\n",
        "                                      НАЦІОНАЛЬНИЙ ТЕХНІЧНИЙ УНІВЕРСИТЕТ УКРАЇНИ\n",
        "                                          “КИЇВСЬКИЙ ПОЛІТЕХНІЧНИЙ ІНСТИТУТ”\n",
        "                                            Кафедра біомедичної кібернетики\n",
        "\n",
        "\n",
        "                                                  ПРАКТИЧНА РОБОТА 3\n",
        "\n",
        "                                            з дисципліни «Нейронні мережі»\n",
        "                                            «МЕРЕЖІ ДЛЯ ЗАДАЧІ КЛАСИФІКАЦІЇ,\n",
        "                                          ЗАСТОСОВУЮЧИ ГРАДІЄНТНИЙ СПУСК.»\n",
        "                                                        Варіант 3\n",
        "\n",
        "\n",
        "                                                                                Студента 3-го курсу\n",
        "                                                                                групи БС-11\n",
        "                                                                                Бутко В.Д.\n",
        "                                                      Київ 2023"
      ],
      "metadata": {
        "id": "5SNsNFbWTe9f"
      }
    },
    {
      "cell_type": "code",
      "source": [
        "import numpy as np\n",
        "import pandas as pd\n",
        "from ucimlrepo import fetch_ucirepo\n",
        "from sklearn.preprocessing import StandardScaler\n",
        "from sklearn.model_selection import train_test_split\n",
        "import matplotlib.pyplot as plt"
      ],
      "metadata": {
        "id": "vpBSfgCBnOM3"
      },
      "execution_count": 3,
      "outputs": []
    },
    {
      "cell_type": "code",
      "source": [
        "glass_identification = fetch_ucirepo(id=42)\n",
        "\n",
        "X = glass_identification.data.features\n",
        "Y = glass_identification.data.targets\n"
      ],
      "metadata": {
        "id": "ewwPofu2WMp7"
      },
      "execution_count": 4,
      "outputs": []
    },
    {
      "cell_type": "code",
      "source": [
        "Y['Type_of_glass'].value_counts()"
      ],
      "metadata": {
        "colab": {
          "base_uri": "https://localhost:8080/"
        },
        "id": "tVtIYZd6Wkf3",
        "outputId": "5420d0c3-4191-46e9-fdba-6b1653ec612c"
      },
      "execution_count": 5,
      "outputs": [
        {
          "output_type": "execute_result",
          "data": {
            "text/plain": [
              "2    76\n",
              "1    70\n",
              "7    29\n",
              "3    17\n",
              "5    13\n",
              "6     9\n",
              "Name: Type_of_glass, dtype: int64"
            ]
          },
          "metadata": {},
          "execution_count": 5
        }
      ]
    },
    {
      "cell_type": "markdown",
      "source": [
        "Бачу, що немає жодної мітки 4го класу. Це викличе проблемі потім, при побудові конфьюжин матриці, тому просто заміню назви міток 7го класу на 4й."
      ],
      "metadata": {
        "id": "XllaGg4gfdRF"
      }
    },
    {
      "cell_type": "code",
      "source": [
        "Y['Type_of_glass'][Y['Type_of_glass'] == 7] = 4\n",
        "Y['Type_of_glass'].value_counts()"
      ],
      "metadata": {
        "colab": {
          "base_uri": "https://localhost:8080/"
        },
        "id": "O6wcl6JQf9kh",
        "outputId": "580056e3-721b-4467-93de-27eba3ad81f5"
      },
      "execution_count": 6,
      "outputs": [
        {
          "output_type": "stream",
          "name": "stderr",
          "text": [
            "<ipython-input-6-817da7a67a64>:1: SettingWithCopyWarning: \n",
            "A value is trying to be set on a copy of a slice from a DataFrame\n",
            "\n",
            "See the caveats in the documentation: https://pandas.pydata.org/pandas-docs/stable/user_guide/indexing.html#returning-a-view-versus-a-copy\n",
            "  Y['Type_of_glass'][Y['Type_of_glass'] == 7] = 4\n"
          ]
        },
        {
          "output_type": "execute_result",
          "data": {
            "text/plain": [
              "2    76\n",
              "1    70\n",
              "4    29\n",
              "3    17\n",
              "5    13\n",
              "6     9\n",
              "Name: Type_of_glass, dtype: int64"
            ]
          },
          "metadata": {},
          "execution_count": 6
        }
      ]
    },
    {
      "cell_type": "code",
      "source": [
        "scaler = StandardScaler().fit(X)\n",
        "X = scaler.transform(X)"
      ],
      "metadata": {
        "id": "ihDE9TMWRTNk"
      },
      "execution_count": 7,
      "outputs": []
    },
    {
      "cell_type": "code",
      "source": [
        "X_train, X_test, Y_train, Y_test = train_test_split(X, Y, test_size=0.2, random_state=42)"
      ],
      "metadata": {
        "id": "89jyF5e2RjVp"
      },
      "execution_count": 8,
      "outputs": []
    },
    {
      "cell_type": "code",
      "source": [
        "def to_one_hot(labels, num_classes=None):\n",
        "\n",
        "  if num_classes is None:\n",
        "    num_classes = np.max(labels) + 1\n",
        "  one_hot_array = np.zeros((len(labels), num_classes))\n",
        "  one_hot_array[np.arange(len(labels)), labels.squeeze()] = 1\n",
        "\n",
        "  return one_hot_array"
      ],
      "metadata": {
        "id": "VFHn3MfzSBwu"
      },
      "execution_count": 9,
      "outputs": []
    },
    {
      "cell_type": "code",
      "source": [
        "Y_train_encoded = to_one_hot(Y_train.to_numpy())\n",
        "Y_test_encoded = to_one_hot(Y_test.to_numpy())"
      ],
      "metadata": {
        "id": "qWORPyEjSB1F"
      },
      "execution_count": 10,
      "outputs": []
    },
    {
      "cell_type": "code",
      "source": [
        "def sigmoid(x):\n",
        "  return 1 / (1 + np.exp(-x))\n",
        "\n",
        "def sigmoid_derivative(x):\n",
        "    return x * (1 - x)"
      ],
      "metadata": {
        "id": "6JSJb5PSyPP7"
      },
      "execution_count": 47,
      "outputs": []
    },
    {
      "cell_type": "code",
      "source": [
        "def relu(x):\n",
        "    return np.maximum(0, x)\n",
        "\n",
        "def relu_derivative(x):\n",
        "  return np.where(x > 0, 1, 0)"
      ],
      "metadata": {
        "id": "K_6m0qc7yRki"
      },
      "execution_count": 48,
      "outputs": []
    },
    {
      "cell_type": "code",
      "source": [
        "def tanh(x):\n",
        "    return np.tanh(x)\n",
        "\n",
        "def tanh_derivative(x):\n",
        "    return 1 - np.tanh(x)**2"
      ],
      "metadata": {
        "id": "ssnAL5uM0WMd"
      },
      "execution_count": 46,
      "outputs": []
    },
    {
      "cell_type": "code",
      "source": [
        "def softmax(x):\n",
        "    e_x = np.exp(x - np.max(x, axis=1, keepdims=True))\n",
        "    return e_x / np.sum(e_x, axis=1, keepdims=True)"
      ],
      "metadata": {
        "id": "lz79G0jv1_Y4"
      },
      "execution_count": 13,
      "outputs": []
    },
    {
      "cell_type": "code",
      "source": [
        "def compute_loss(Y, Y_hat):\n",
        "    m = Y.shape[0]\n",
        "    loss = -np.sum(Y * np.log(Y_hat)) / m\n",
        "    return loss"
      ],
      "metadata": {
        "id": "nL1NHCOl5PHS"
      },
      "execution_count": 14,
      "outputs": []
    },
    {
      "cell_type": "code",
      "source": [
        "def initialize_parameters(input_size, hidden_size, num_classes):\n",
        "    params = {\n",
        "        'W1': np.random.randn(input_size, hidden_size) * 0.01,\n",
        "        'b1': np.zeros((1, hidden_size)),\n",
        "        'W2': np.random.randn(hidden_size, num_classes) * 0.01,\n",
        "        'b2': np.zeros((1, num_classes))\n",
        "    }\n",
        "    return params"
      ],
      "metadata": {
        "id": "PUpaLRygze3T"
      },
      "execution_count": 15,
      "outputs": []
    },
    {
      "cell_type": "code",
      "source": [
        "def forward_pass(X, params):\n",
        "    Z1 = np.dot(X, params['W1']) + params['b1']\n",
        "    A1 = sigmoid(Z1)\n",
        "    Z2 = np.dot(A1, params['W2']) + params['b2']\n",
        "    A2 = softmax(Z2)\n",
        "    forward_params = {'Z1': Z1, 'A1': A1, 'Z2': Z2, 'A2': A2}\n",
        "    return forward_params"
      ],
      "metadata": {
        "id": "BEgT8MaYzi2C"
      },
      "execution_count": 59,
      "outputs": []
    },
    {
      "cell_type": "code",
      "source": [
        "def backward_pass(X, Y, params, forward_params, lr=0.01):\n",
        "    m = X.shape[0]\n",
        "    dZ2 = forward_params['A2'] - Y\n",
        "    dW2 = np.dot(forward_params['A1'].T, dZ2) / m\n",
        "    db2 = np.sum(dZ2, axis=0, keepdims=True) / m\n",
        "    dA1 = np.dot(dZ2, params['W2'].T)\n",
        "    dZ1 = dA1 * sigmoid_derivative(forward_params['A1'])\n",
        "    dW1 = np.dot(X.T, dZ1) / m\n",
        "    db1 = np.sum(dZ1, axis=0, keepdims=True) / m\n",
        "\n",
        "    params['W1'] -= lr * dW1\n",
        "    params['b1'] -= lr * db1\n",
        "    params['W2'] -= lr * dW2\n",
        "    params['b2'] -= lr * db2\n",
        "    return params\n"
      ],
      "metadata": {
        "id": "0_LGrnTS0VGc"
      },
      "execution_count": 60,
      "outputs": []
    },
    {
      "cell_type": "code",
      "source": [
        "def fit(X, Y, n_input, n_hidden, n_output, iters=100000, lr = 0.01):\n",
        "\n",
        "  params = initialize_parameters(n_input, n_hidden, n_output)\n",
        "  losses = []\n",
        "\n",
        "  for i in range(iters):\n",
        "\n",
        "    forward_params = forward_pass(X, params)\n",
        "\n",
        "    loss = compute_loss(Y, forward_params['A2'])\n",
        "    losses.append(loss)\n",
        "\n",
        "\n",
        "    grads = backward_pass(X, Y, params, forward_params, lr)\n",
        "\n",
        "    if i % 150 == 0:\n",
        "      print(f'Iteration {i}, Loss: {loss:.4f}')\n",
        "\n",
        "  return grads, losses"
      ],
      "metadata": {
        "id": "4zBIzGd105fq"
      },
      "execution_count": 51,
      "outputs": []
    },
    {
      "cell_type": "code",
      "source": [
        "n_input = 9\n",
        "n_hidden = 250\n",
        "n_output = 7"
      ],
      "metadata": {
        "id": "j19sVfXDV-9n"
      },
      "execution_count": 61,
      "outputs": []
    },
    {
      "cell_type": "code",
      "source": [
        "params, losses = fit(X_train, Y_train_encoded, n_input, n_hidden, n_output)"
      ],
      "metadata": {
        "colab": {
          "base_uri": "https://localhost:8080/"
        },
        "id": "iKwCEsXWV2Al",
        "outputId": "64e9d16c-98f1-4f0d-bff9-3d0f0a3c1eca"
      },
      "execution_count": 62,
      "outputs": [
        {
          "output_type": "stream",
          "name": "stdout",
          "text": [
            "Iteration 0, Loss: 1.9270\n",
            "Iteration 150, Loss: 1.4765\n",
            "Iteration 300, Loss: 1.4708\n",
            "Iteration 450, Loss: 1.4673\n",
            "Iteration 600, Loss: 1.4640\n",
            "Iteration 750, Loss: 1.4602\n",
            "Iteration 900, Loss: 1.4555\n",
            "Iteration 1050, Loss: 1.4494\n",
            "Iteration 1200, Loss: 1.4413\n",
            "Iteration 1350, Loss: 1.4306\n",
            "Iteration 1500, Loss: 1.4166\n",
            "Iteration 1650, Loss: 1.3986\n",
            "Iteration 1800, Loss: 1.3764\n",
            "Iteration 1950, Loss: 1.3501\n",
            "Iteration 2100, Loss: 1.3209\n",
            "Iteration 2250, Loss: 1.2907\n",
            "Iteration 2400, Loss: 1.2615\n",
            "Iteration 2550, Loss: 1.2349\n",
            "Iteration 2700, Loss: 1.2115\n",
            "Iteration 2850, Loss: 1.1913\n",
            "Iteration 3000, Loss: 1.1737\n",
            "Iteration 3150, Loss: 1.1583\n",
            "Iteration 3300, Loss: 1.1445\n",
            "Iteration 3450, Loss: 1.1320\n",
            "Iteration 3600, Loss: 1.1205\n",
            "Iteration 3750, Loss: 1.1097\n",
            "Iteration 3900, Loss: 1.0995\n",
            "Iteration 4050, Loss: 1.0898\n",
            "Iteration 4200, Loss: 1.0805\n",
            "Iteration 4350, Loss: 1.0716\n",
            "Iteration 4500, Loss: 1.0630\n",
            "Iteration 4650, Loss: 1.0548\n",
            "Iteration 4800, Loss: 1.0468\n",
            "Iteration 4950, Loss: 1.0391\n",
            "Iteration 5100, Loss: 1.0317\n",
            "Iteration 5250, Loss: 1.0246\n",
            "Iteration 5400, Loss: 1.0178\n",
            "Iteration 5550, Loss: 1.0113\n",
            "Iteration 5700, Loss: 1.0050\n",
            "Iteration 5850, Loss: 0.9990\n",
            "Iteration 6000, Loss: 0.9932\n",
            "Iteration 6150, Loss: 0.9878\n",
            "Iteration 6300, Loss: 0.9825\n",
            "Iteration 6450, Loss: 0.9775\n",
            "Iteration 6600, Loss: 0.9728\n",
            "Iteration 6750, Loss: 0.9683\n",
            "Iteration 6900, Loss: 0.9640\n",
            "Iteration 7050, Loss: 0.9599\n",
            "Iteration 7200, Loss: 0.9559\n",
            "Iteration 7350, Loss: 0.9522\n",
            "Iteration 7500, Loss: 0.9486\n",
            "Iteration 7650, Loss: 0.9452\n",
            "Iteration 7800, Loss: 0.9420\n",
            "Iteration 7950, Loss: 0.9389\n",
            "Iteration 8100, Loss: 0.9359\n",
            "Iteration 8250, Loss: 0.9330\n",
            "Iteration 8400, Loss: 0.9302\n",
            "Iteration 8550, Loss: 0.9276\n",
            "Iteration 8700, Loss: 0.9250\n",
            "Iteration 8850, Loss: 0.9226\n",
            "Iteration 9000, Loss: 0.9202\n",
            "Iteration 9150, Loss: 0.9178\n",
            "Iteration 9300, Loss: 0.9156\n",
            "Iteration 9450, Loss: 0.9134\n",
            "Iteration 9600, Loss: 0.9113\n",
            "Iteration 9750, Loss: 0.9092\n",
            "Iteration 9900, Loss: 0.9072\n",
            "Iteration 10050, Loss: 0.9052\n",
            "Iteration 10200, Loss: 0.9033\n",
            "Iteration 10350, Loss: 0.9014\n",
            "Iteration 10500, Loss: 0.8995\n",
            "Iteration 10650, Loss: 0.8977\n",
            "Iteration 10800, Loss: 0.8959\n",
            "Iteration 10950, Loss: 0.8941\n",
            "Iteration 11100, Loss: 0.8924\n",
            "Iteration 11250, Loss: 0.8907\n",
            "Iteration 11400, Loss: 0.8890\n",
            "Iteration 11550, Loss: 0.8873\n",
            "Iteration 11700, Loss: 0.8856\n",
            "Iteration 11850, Loss: 0.8840\n",
            "Iteration 12000, Loss: 0.8823\n",
            "Iteration 12150, Loss: 0.8807\n",
            "Iteration 12300, Loss: 0.8791\n",
            "Iteration 12450, Loss: 0.8775\n",
            "Iteration 12600, Loss: 0.8759\n",
            "Iteration 12750, Loss: 0.8743\n",
            "Iteration 12900, Loss: 0.8728\n",
            "Iteration 13050, Loss: 0.8712\n",
            "Iteration 13200, Loss: 0.8697\n",
            "Iteration 13350, Loss: 0.8681\n",
            "Iteration 13500, Loss: 0.8666\n",
            "Iteration 13650, Loss: 0.8651\n",
            "Iteration 13800, Loss: 0.8636\n",
            "Iteration 13950, Loss: 0.8621\n",
            "Iteration 14100, Loss: 0.8606\n",
            "Iteration 14250, Loss: 0.8591\n",
            "Iteration 14400, Loss: 0.8576\n",
            "Iteration 14550, Loss: 0.8562\n",
            "Iteration 14700, Loss: 0.8547\n",
            "Iteration 14850, Loss: 0.8533\n",
            "Iteration 15000, Loss: 0.8519\n",
            "Iteration 15150, Loss: 0.8505\n",
            "Iteration 15300, Loss: 0.8491\n",
            "Iteration 15450, Loss: 0.8477\n",
            "Iteration 15600, Loss: 0.8464\n",
            "Iteration 15750, Loss: 0.8450\n",
            "Iteration 15900, Loss: 0.8437\n",
            "Iteration 16050, Loss: 0.8424\n",
            "Iteration 16200, Loss: 0.8411\n",
            "Iteration 16350, Loss: 0.8398\n",
            "Iteration 16500, Loss: 0.8385\n",
            "Iteration 16650, Loss: 0.8372\n",
            "Iteration 16800, Loss: 0.8360\n",
            "Iteration 16950, Loss: 0.8347\n",
            "Iteration 17100, Loss: 0.8335\n",
            "Iteration 17250, Loss: 0.8323\n",
            "Iteration 17400, Loss: 0.8311\n",
            "Iteration 17550, Loss: 0.8299\n",
            "Iteration 17700, Loss: 0.8288\n",
            "Iteration 17850, Loss: 0.8276\n",
            "Iteration 18000, Loss: 0.8264\n",
            "Iteration 18150, Loss: 0.8253\n",
            "Iteration 18300, Loss: 0.8242\n",
            "Iteration 18450, Loss: 0.8231\n",
            "Iteration 18600, Loss: 0.8219\n",
            "Iteration 18750, Loss: 0.8208\n",
            "Iteration 18900, Loss: 0.8197\n",
            "Iteration 19050, Loss: 0.8187\n",
            "Iteration 19200, Loss: 0.8176\n",
            "Iteration 19350, Loss: 0.8165\n",
            "Iteration 19500, Loss: 0.8154\n",
            "Iteration 19650, Loss: 0.8144\n",
            "Iteration 19800, Loss: 0.8133\n",
            "Iteration 19950, Loss: 0.8123\n",
            "Iteration 20100, Loss: 0.8112\n",
            "Iteration 20250, Loss: 0.8102\n",
            "Iteration 20400, Loss: 0.8092\n",
            "Iteration 20550, Loss: 0.8081\n",
            "Iteration 20700, Loss: 0.8071\n",
            "Iteration 20850, Loss: 0.8061\n",
            "Iteration 21000, Loss: 0.8050\n",
            "Iteration 21150, Loss: 0.8040\n",
            "Iteration 21300, Loss: 0.8030\n",
            "Iteration 21450, Loss: 0.8020\n",
            "Iteration 21600, Loss: 0.8010\n",
            "Iteration 21750, Loss: 0.8000\n",
            "Iteration 21900, Loss: 0.7990\n",
            "Iteration 22050, Loss: 0.7979\n",
            "Iteration 22200, Loss: 0.7969\n",
            "Iteration 22350, Loss: 0.7959\n",
            "Iteration 22500, Loss: 0.7949\n",
            "Iteration 22650, Loss: 0.7939\n",
            "Iteration 22800, Loss: 0.7929\n",
            "Iteration 22950, Loss: 0.7919\n",
            "Iteration 23100, Loss: 0.7909\n",
            "Iteration 23250, Loss: 0.7899\n",
            "Iteration 23400, Loss: 0.7889\n",
            "Iteration 23550, Loss: 0.7879\n",
            "Iteration 23700, Loss: 0.7869\n",
            "Iteration 23850, Loss: 0.7859\n",
            "Iteration 24000, Loss: 0.7849\n",
            "Iteration 24150, Loss: 0.7839\n",
            "Iteration 24300, Loss: 0.7829\n",
            "Iteration 24450, Loss: 0.7819\n",
            "Iteration 24600, Loss: 0.7809\n",
            "Iteration 24750, Loss: 0.7799\n",
            "Iteration 24900, Loss: 0.7789\n",
            "Iteration 25050, Loss: 0.7779\n",
            "Iteration 25200, Loss: 0.7769\n",
            "Iteration 25350, Loss: 0.7758\n",
            "Iteration 25500, Loss: 0.7748\n",
            "Iteration 25650, Loss: 0.7738\n",
            "Iteration 25800, Loss: 0.7728\n",
            "Iteration 25950, Loss: 0.7718\n",
            "Iteration 26100, Loss: 0.7708\n",
            "Iteration 26250, Loss: 0.7698\n",
            "Iteration 26400, Loss: 0.7688\n",
            "Iteration 26550, Loss: 0.7678\n",
            "Iteration 26700, Loss: 0.7667\n",
            "Iteration 26850, Loss: 0.7657\n",
            "Iteration 27000, Loss: 0.7647\n",
            "Iteration 27150, Loss: 0.7637\n",
            "Iteration 27300, Loss: 0.7627\n",
            "Iteration 27450, Loss: 0.7617\n",
            "Iteration 27600, Loss: 0.7606\n",
            "Iteration 27750, Loss: 0.7596\n",
            "Iteration 27900, Loss: 0.7586\n",
            "Iteration 28050, Loss: 0.7576\n",
            "Iteration 28200, Loss: 0.7566\n",
            "Iteration 28350, Loss: 0.7555\n",
            "Iteration 28500, Loss: 0.7545\n",
            "Iteration 28650, Loss: 0.7535\n",
            "Iteration 28800, Loss: 0.7525\n",
            "Iteration 28950, Loss: 0.7515\n",
            "Iteration 29100, Loss: 0.7504\n",
            "Iteration 29250, Loss: 0.7494\n",
            "Iteration 29400, Loss: 0.7484\n",
            "Iteration 29550, Loss: 0.7474\n",
            "Iteration 29700, Loss: 0.7463\n",
            "Iteration 29850, Loss: 0.7453\n",
            "Iteration 30000, Loss: 0.7443\n",
            "Iteration 30150, Loss: 0.7433\n",
            "Iteration 30300, Loss: 0.7422\n",
            "Iteration 30450, Loss: 0.7412\n",
            "Iteration 30600, Loss: 0.7402\n",
            "Iteration 30750, Loss: 0.7392\n",
            "Iteration 30900, Loss: 0.7382\n",
            "Iteration 31050, Loss: 0.7371\n",
            "Iteration 31200, Loss: 0.7361\n",
            "Iteration 31350, Loss: 0.7351\n",
            "Iteration 31500, Loss: 0.7341\n",
            "Iteration 31650, Loss: 0.7331\n",
            "Iteration 31800, Loss: 0.7320\n",
            "Iteration 31950, Loss: 0.7310\n",
            "Iteration 32100, Loss: 0.7300\n",
            "Iteration 32250, Loss: 0.7290\n",
            "Iteration 32400, Loss: 0.7280\n",
            "Iteration 32550, Loss: 0.7269\n",
            "Iteration 32700, Loss: 0.7259\n",
            "Iteration 32850, Loss: 0.7249\n",
            "Iteration 33000, Loss: 0.7239\n",
            "Iteration 33150, Loss: 0.7229\n",
            "Iteration 33300, Loss: 0.7219\n",
            "Iteration 33450, Loss: 0.7209\n",
            "Iteration 33600, Loss: 0.7199\n",
            "Iteration 33750, Loss: 0.7189\n",
            "Iteration 33900, Loss: 0.7179\n",
            "Iteration 34050, Loss: 0.7169\n",
            "Iteration 34200, Loss: 0.7159\n",
            "Iteration 34350, Loss: 0.7149\n",
            "Iteration 34500, Loss: 0.7139\n",
            "Iteration 34650, Loss: 0.7129\n",
            "Iteration 34800, Loss: 0.7119\n",
            "Iteration 34950, Loss: 0.7109\n",
            "Iteration 35100, Loss: 0.7099\n",
            "Iteration 35250, Loss: 0.7089\n",
            "Iteration 35400, Loss: 0.7079\n",
            "Iteration 35550, Loss: 0.7070\n",
            "Iteration 35700, Loss: 0.7060\n",
            "Iteration 35850, Loss: 0.7050\n",
            "Iteration 36000, Loss: 0.7040\n",
            "Iteration 36150, Loss: 0.7031\n",
            "Iteration 36300, Loss: 0.7021\n",
            "Iteration 36450, Loss: 0.7011\n",
            "Iteration 36600, Loss: 0.7002\n",
            "Iteration 36750, Loss: 0.6992\n",
            "Iteration 36900, Loss: 0.6983\n",
            "Iteration 37050, Loss: 0.6973\n",
            "Iteration 37200, Loss: 0.6964\n",
            "Iteration 37350, Loss: 0.6954\n",
            "Iteration 37500, Loss: 0.6945\n",
            "Iteration 37650, Loss: 0.6935\n",
            "Iteration 37800, Loss: 0.6926\n",
            "Iteration 37950, Loss: 0.6917\n",
            "Iteration 38100, Loss: 0.6907\n",
            "Iteration 38250, Loss: 0.6898\n",
            "Iteration 38400, Loss: 0.6889\n",
            "Iteration 38550, Loss: 0.6879\n",
            "Iteration 38700, Loss: 0.6870\n",
            "Iteration 38850, Loss: 0.6861\n",
            "Iteration 39000, Loss: 0.6852\n",
            "Iteration 39150, Loss: 0.6843\n",
            "Iteration 39300, Loss: 0.6834\n",
            "Iteration 39450, Loss: 0.6825\n",
            "Iteration 39600, Loss: 0.6816\n",
            "Iteration 39750, Loss: 0.6807\n",
            "Iteration 39900, Loss: 0.6798\n",
            "Iteration 40050, Loss: 0.6789\n",
            "Iteration 40200, Loss: 0.6781\n",
            "Iteration 40350, Loss: 0.6772\n",
            "Iteration 40500, Loss: 0.6763\n",
            "Iteration 40650, Loss: 0.6754\n",
            "Iteration 40800, Loss: 0.6746\n",
            "Iteration 40950, Loss: 0.6737\n",
            "Iteration 41100, Loss: 0.6729\n",
            "Iteration 41250, Loss: 0.6720\n",
            "Iteration 41400, Loss: 0.6711\n",
            "Iteration 41550, Loss: 0.6703\n",
            "Iteration 41700, Loss: 0.6695\n",
            "Iteration 41850, Loss: 0.6686\n",
            "Iteration 42000, Loss: 0.6678\n",
            "Iteration 42150, Loss: 0.6670\n",
            "Iteration 42300, Loss: 0.6661\n",
            "Iteration 42450, Loss: 0.6653\n",
            "Iteration 42600, Loss: 0.6645\n",
            "Iteration 42750, Loss: 0.6637\n",
            "Iteration 42900, Loss: 0.6629\n",
            "Iteration 43050, Loss: 0.6621\n",
            "Iteration 43200, Loss: 0.6612\n",
            "Iteration 43350, Loss: 0.6604\n",
            "Iteration 43500, Loss: 0.6597\n",
            "Iteration 43650, Loss: 0.6589\n",
            "Iteration 43800, Loss: 0.6581\n",
            "Iteration 43950, Loss: 0.6573\n",
            "Iteration 44100, Loss: 0.6565\n",
            "Iteration 44250, Loss: 0.6557\n",
            "Iteration 44400, Loss: 0.6549\n",
            "Iteration 44550, Loss: 0.6542\n",
            "Iteration 44700, Loss: 0.6534\n",
            "Iteration 44850, Loss: 0.6526\n",
            "Iteration 45000, Loss: 0.6519\n",
            "Iteration 45150, Loss: 0.6511\n",
            "Iteration 45300, Loss: 0.6504\n",
            "Iteration 45450, Loss: 0.6496\n",
            "Iteration 45600, Loss: 0.6489\n",
            "Iteration 45750, Loss: 0.6481\n",
            "Iteration 45900, Loss: 0.6474\n",
            "Iteration 46050, Loss: 0.6466\n",
            "Iteration 46200, Loss: 0.6459\n",
            "Iteration 46350, Loss: 0.6452\n",
            "Iteration 46500, Loss: 0.6444\n",
            "Iteration 46650, Loss: 0.6437\n",
            "Iteration 46800, Loss: 0.6430\n",
            "Iteration 46950, Loss: 0.6422\n",
            "Iteration 47100, Loss: 0.6415\n",
            "Iteration 47250, Loss: 0.6408\n",
            "Iteration 47400, Loss: 0.6401\n",
            "Iteration 47550, Loss: 0.6394\n",
            "Iteration 47700, Loss: 0.6387\n",
            "Iteration 47850, Loss: 0.6379\n",
            "Iteration 48000, Loss: 0.6372\n",
            "Iteration 48150, Loss: 0.6365\n",
            "Iteration 48300, Loss: 0.6358\n",
            "Iteration 48450, Loss: 0.6351\n",
            "Iteration 48600, Loss: 0.6344\n",
            "Iteration 48750, Loss: 0.6337\n",
            "Iteration 48900, Loss: 0.6330\n",
            "Iteration 49050, Loss: 0.6323\n",
            "Iteration 49200, Loss: 0.6316\n",
            "Iteration 49350, Loss: 0.6309\n",
            "Iteration 49500, Loss: 0.6302\n",
            "Iteration 49650, Loss: 0.6296\n",
            "Iteration 49800, Loss: 0.6289\n",
            "Iteration 49950, Loss: 0.6282\n",
            "Iteration 50100, Loss: 0.6275\n",
            "Iteration 50250, Loss: 0.6268\n",
            "Iteration 50400, Loss: 0.6261\n",
            "Iteration 50550, Loss: 0.6254\n",
            "Iteration 50700, Loss: 0.6247\n",
            "Iteration 50850, Loss: 0.6240\n",
            "Iteration 51000, Loss: 0.6234\n",
            "Iteration 51150, Loss: 0.6227\n",
            "Iteration 51300, Loss: 0.6220\n",
            "Iteration 51450, Loss: 0.6213\n",
            "Iteration 51600, Loss: 0.6206\n",
            "Iteration 51750, Loss: 0.6199\n",
            "Iteration 51900, Loss: 0.6192\n",
            "Iteration 52050, Loss: 0.6186\n",
            "Iteration 52200, Loss: 0.6179\n",
            "Iteration 52350, Loss: 0.6172\n",
            "Iteration 52500, Loss: 0.6165\n",
            "Iteration 52650, Loss: 0.6158\n",
            "Iteration 52800, Loss: 0.6151\n",
            "Iteration 52950, Loss: 0.6144\n",
            "Iteration 53100, Loss: 0.6137\n",
            "Iteration 53250, Loss: 0.6130\n",
            "Iteration 53400, Loss: 0.6123\n",
            "Iteration 53550, Loss: 0.6117\n",
            "Iteration 53700, Loss: 0.6110\n",
            "Iteration 53850, Loss: 0.6103\n",
            "Iteration 54000, Loss: 0.6096\n",
            "Iteration 54150, Loss: 0.6089\n",
            "Iteration 54300, Loss: 0.6082\n",
            "Iteration 54450, Loss: 0.6075\n",
            "Iteration 54600, Loss: 0.6068\n",
            "Iteration 54750, Loss: 0.6061\n",
            "Iteration 54900, Loss: 0.6054\n",
            "Iteration 55050, Loss: 0.6046\n",
            "Iteration 55200, Loss: 0.6039\n",
            "Iteration 55350, Loss: 0.6032\n",
            "Iteration 55500, Loss: 0.6025\n",
            "Iteration 55650, Loss: 0.6018\n",
            "Iteration 55800, Loss: 0.6011\n",
            "Iteration 55950, Loss: 0.6004\n",
            "Iteration 56100, Loss: 0.5996\n",
            "Iteration 56250, Loss: 0.5989\n",
            "Iteration 56400, Loss: 0.5982\n",
            "Iteration 56550, Loss: 0.5975\n",
            "Iteration 56700, Loss: 0.5967\n",
            "Iteration 56850, Loss: 0.5960\n",
            "Iteration 57000, Loss: 0.5953\n",
            "Iteration 57150, Loss: 0.5945\n",
            "Iteration 57300, Loss: 0.5938\n",
            "Iteration 57450, Loss: 0.5930\n",
            "Iteration 57600, Loss: 0.5923\n",
            "Iteration 57750, Loss: 0.5915\n",
            "Iteration 57900, Loss: 0.5908\n",
            "Iteration 58050, Loss: 0.5900\n",
            "Iteration 58200, Loss: 0.5893\n",
            "Iteration 58350, Loss: 0.5885\n",
            "Iteration 58500, Loss: 0.5878\n",
            "Iteration 58650, Loss: 0.5870\n",
            "Iteration 58800, Loss: 0.5862\n",
            "Iteration 58950, Loss: 0.5855\n",
            "Iteration 59100, Loss: 0.5847\n",
            "Iteration 59250, Loss: 0.5839\n",
            "Iteration 59400, Loss: 0.5832\n",
            "Iteration 59550, Loss: 0.5824\n",
            "Iteration 59700, Loss: 0.5816\n",
            "Iteration 59850, Loss: 0.5808\n",
            "Iteration 60000, Loss: 0.5800\n",
            "Iteration 60150, Loss: 0.5792\n",
            "Iteration 60300, Loss: 0.5785\n",
            "Iteration 60450, Loss: 0.5777\n",
            "Iteration 60600, Loss: 0.5769\n",
            "Iteration 60750, Loss: 0.5761\n",
            "Iteration 60900, Loss: 0.5753\n",
            "Iteration 61050, Loss: 0.5745\n",
            "Iteration 61200, Loss: 0.5737\n",
            "Iteration 61350, Loss: 0.5729\n",
            "Iteration 61500, Loss: 0.5720\n",
            "Iteration 61650, Loss: 0.5712\n",
            "Iteration 61800, Loss: 0.5704\n",
            "Iteration 61950, Loss: 0.5696\n",
            "Iteration 62100, Loss: 0.5688\n",
            "Iteration 62250, Loss: 0.5680\n",
            "Iteration 62400, Loss: 0.5671\n",
            "Iteration 62550, Loss: 0.5663\n",
            "Iteration 62700, Loss: 0.5655\n",
            "Iteration 62850, Loss: 0.5647\n",
            "Iteration 63000, Loss: 0.5638\n",
            "Iteration 63150, Loss: 0.5630\n",
            "Iteration 63300, Loss: 0.5622\n",
            "Iteration 63450, Loss: 0.5613\n",
            "Iteration 63600, Loss: 0.5605\n",
            "Iteration 63750, Loss: 0.5597\n",
            "Iteration 63900, Loss: 0.5588\n",
            "Iteration 64050, Loss: 0.5580\n",
            "Iteration 64200, Loss: 0.5571\n",
            "Iteration 64350, Loss: 0.5563\n",
            "Iteration 64500, Loss: 0.5555\n",
            "Iteration 64650, Loss: 0.5546\n",
            "Iteration 64800, Loss: 0.5538\n",
            "Iteration 64950, Loss: 0.5529\n",
            "Iteration 65100, Loss: 0.5521\n",
            "Iteration 65250, Loss: 0.5512\n",
            "Iteration 65400, Loss: 0.5504\n",
            "Iteration 65550, Loss: 0.5495\n",
            "Iteration 65700, Loss: 0.5487\n",
            "Iteration 65850, Loss: 0.5478\n",
            "Iteration 66000, Loss: 0.5470\n",
            "Iteration 66150, Loss: 0.5461\n",
            "Iteration 66300, Loss: 0.5453\n",
            "Iteration 66450, Loss: 0.5444\n",
            "Iteration 66600, Loss: 0.5436\n",
            "Iteration 66750, Loss: 0.5427\n",
            "Iteration 66900, Loss: 0.5419\n",
            "Iteration 67050, Loss: 0.5410\n",
            "Iteration 67200, Loss: 0.5402\n",
            "Iteration 67350, Loss: 0.5393\n",
            "Iteration 67500, Loss: 0.5385\n",
            "Iteration 67650, Loss: 0.5376\n",
            "Iteration 67800, Loss: 0.5367\n",
            "Iteration 67950, Loss: 0.5359\n",
            "Iteration 68100, Loss: 0.5350\n",
            "Iteration 68250, Loss: 0.5342\n",
            "Iteration 68400, Loss: 0.5333\n",
            "Iteration 68550, Loss: 0.5325\n",
            "Iteration 68700, Loss: 0.5316\n",
            "Iteration 68850, Loss: 0.5308\n",
            "Iteration 69000, Loss: 0.5300\n",
            "Iteration 69150, Loss: 0.5291\n",
            "Iteration 69300, Loss: 0.5283\n",
            "Iteration 69450, Loss: 0.5274\n",
            "Iteration 69600, Loss: 0.5266\n",
            "Iteration 69750, Loss: 0.5257\n",
            "Iteration 69900, Loss: 0.5249\n",
            "Iteration 70050, Loss: 0.5241\n",
            "Iteration 70200, Loss: 0.5232\n",
            "Iteration 70350, Loss: 0.5224\n",
            "Iteration 70500, Loss: 0.5215\n",
            "Iteration 70650, Loss: 0.5207\n",
            "Iteration 70800, Loss: 0.5199\n",
            "Iteration 70950, Loss: 0.5190\n",
            "Iteration 71100, Loss: 0.5182\n",
            "Iteration 71250, Loss: 0.5174\n",
            "Iteration 71400, Loss: 0.5166\n",
            "Iteration 71550, Loss: 0.5157\n",
            "Iteration 71700, Loss: 0.5149\n",
            "Iteration 71850, Loss: 0.5141\n",
            "Iteration 72000, Loss: 0.5133\n",
            "Iteration 72150, Loss: 0.5124\n",
            "Iteration 72300, Loss: 0.5116\n",
            "Iteration 72450, Loss: 0.5108\n",
            "Iteration 72600, Loss: 0.5100\n",
            "Iteration 72750, Loss: 0.5092\n",
            "Iteration 72900, Loss: 0.5084\n",
            "Iteration 73050, Loss: 0.5076\n",
            "Iteration 73200, Loss: 0.5067\n",
            "Iteration 73350, Loss: 0.5059\n",
            "Iteration 73500, Loss: 0.5051\n",
            "Iteration 73650, Loss: 0.5043\n",
            "Iteration 73800, Loss: 0.5035\n",
            "Iteration 73950, Loss: 0.5027\n",
            "Iteration 74100, Loss: 0.5019\n",
            "Iteration 74250, Loss: 0.5011\n",
            "Iteration 74400, Loss: 0.5003\n",
            "Iteration 74550, Loss: 0.4996\n",
            "Iteration 74700, Loss: 0.4988\n",
            "Iteration 74850, Loss: 0.4980\n",
            "Iteration 75000, Loss: 0.4972\n",
            "Iteration 75150, Loss: 0.4964\n",
            "Iteration 75300, Loss: 0.4956\n",
            "Iteration 75450, Loss: 0.4949\n",
            "Iteration 75600, Loss: 0.4941\n",
            "Iteration 75750, Loss: 0.4933\n",
            "Iteration 75900, Loss: 0.4925\n",
            "Iteration 76050, Loss: 0.4918\n",
            "Iteration 76200, Loss: 0.4910\n",
            "Iteration 76350, Loss: 0.4902\n",
            "Iteration 76500, Loss: 0.4895\n",
            "Iteration 76650, Loss: 0.4887\n",
            "Iteration 76800, Loss: 0.4879\n",
            "Iteration 76950, Loss: 0.4872\n",
            "Iteration 77100, Loss: 0.4864\n",
            "Iteration 77250, Loss: 0.4857\n",
            "Iteration 77400, Loss: 0.4849\n",
            "Iteration 77550, Loss: 0.4842\n",
            "Iteration 77700, Loss: 0.4834\n",
            "Iteration 77850, Loss: 0.4827\n",
            "Iteration 78000, Loss: 0.4819\n",
            "Iteration 78150, Loss: 0.4812\n",
            "Iteration 78300, Loss: 0.4804\n",
            "Iteration 78450, Loss: 0.4797\n",
            "Iteration 78600, Loss: 0.4790\n",
            "Iteration 78750, Loss: 0.4782\n",
            "Iteration 78900, Loss: 0.4775\n",
            "Iteration 79050, Loss: 0.4768\n",
            "Iteration 79200, Loss: 0.4760\n",
            "Iteration 79350, Loss: 0.4753\n",
            "Iteration 79500, Loss: 0.4746\n",
            "Iteration 79650, Loss: 0.4739\n",
            "Iteration 79800, Loss: 0.4732\n",
            "Iteration 79950, Loss: 0.4724\n",
            "Iteration 80100, Loss: 0.4717\n",
            "Iteration 80250, Loss: 0.4710\n",
            "Iteration 80400, Loss: 0.4703\n",
            "Iteration 80550, Loss: 0.4696\n",
            "Iteration 80700, Loss: 0.4689\n",
            "Iteration 80850, Loss: 0.4682\n",
            "Iteration 81000, Loss: 0.4675\n",
            "Iteration 81150, Loss: 0.4668\n",
            "Iteration 81300, Loss: 0.4661\n",
            "Iteration 81450, Loss: 0.4654\n",
            "Iteration 81600, Loss: 0.4647\n",
            "Iteration 81750, Loss: 0.4640\n",
            "Iteration 81900, Loss: 0.4633\n",
            "Iteration 82050, Loss: 0.4626\n",
            "Iteration 82200, Loss: 0.4620\n",
            "Iteration 82350, Loss: 0.4613\n",
            "Iteration 82500, Loss: 0.4606\n",
            "Iteration 82650, Loss: 0.4599\n",
            "Iteration 82800, Loss: 0.4593\n",
            "Iteration 82950, Loss: 0.4586\n",
            "Iteration 83100, Loss: 0.4579\n",
            "Iteration 83250, Loss: 0.4572\n",
            "Iteration 83400, Loss: 0.4566\n",
            "Iteration 83550, Loss: 0.4559\n",
            "Iteration 83700, Loss: 0.4552\n",
            "Iteration 83850, Loss: 0.4546\n",
            "Iteration 84000, Loss: 0.4539\n",
            "Iteration 84150, Loss: 0.4533\n",
            "Iteration 84300, Loss: 0.4526\n",
            "Iteration 84450, Loss: 0.4520\n",
            "Iteration 84600, Loss: 0.4513\n",
            "Iteration 84750, Loss: 0.4507\n",
            "Iteration 84900, Loss: 0.4500\n",
            "Iteration 85050, Loss: 0.4494\n",
            "Iteration 85200, Loss: 0.4488\n",
            "Iteration 85350, Loss: 0.4481\n",
            "Iteration 85500, Loss: 0.4475\n",
            "Iteration 85650, Loss: 0.4468\n",
            "Iteration 85800, Loss: 0.4462\n",
            "Iteration 85950, Loss: 0.4456\n",
            "Iteration 86100, Loss: 0.4450\n",
            "Iteration 86250, Loss: 0.4443\n",
            "Iteration 86400, Loss: 0.4437\n",
            "Iteration 86550, Loss: 0.4431\n",
            "Iteration 86700, Loss: 0.4425\n",
            "Iteration 86850, Loss: 0.4419\n",
            "Iteration 87000, Loss: 0.4412\n",
            "Iteration 87150, Loss: 0.4406\n",
            "Iteration 87300, Loss: 0.4400\n",
            "Iteration 87450, Loss: 0.4394\n",
            "Iteration 87600, Loss: 0.4388\n",
            "Iteration 87750, Loss: 0.4382\n",
            "Iteration 87900, Loss: 0.4376\n",
            "Iteration 88050, Loss: 0.4370\n",
            "Iteration 88200, Loss: 0.4364\n",
            "Iteration 88350, Loss: 0.4358\n",
            "Iteration 88500, Loss: 0.4352\n",
            "Iteration 88650, Loss: 0.4346\n",
            "Iteration 88800, Loss: 0.4340\n",
            "Iteration 88950, Loss: 0.4334\n",
            "Iteration 89100, Loss: 0.4328\n",
            "Iteration 89250, Loss: 0.4323\n",
            "Iteration 89400, Loss: 0.4317\n",
            "Iteration 89550, Loss: 0.4311\n",
            "Iteration 89700, Loss: 0.4305\n",
            "Iteration 89850, Loss: 0.4299\n",
            "Iteration 90000, Loss: 0.4294\n",
            "Iteration 90150, Loss: 0.4288\n",
            "Iteration 90300, Loss: 0.4282\n",
            "Iteration 90450, Loss: 0.4276\n",
            "Iteration 90600, Loss: 0.4271\n",
            "Iteration 90750, Loss: 0.4265\n",
            "Iteration 90900, Loss: 0.4259\n",
            "Iteration 91050, Loss: 0.4254\n",
            "Iteration 91200, Loss: 0.4248\n",
            "Iteration 91350, Loss: 0.4243\n",
            "Iteration 91500, Loss: 0.4237\n",
            "Iteration 91650, Loss: 0.4232\n",
            "Iteration 91800, Loss: 0.4226\n",
            "Iteration 91950, Loss: 0.4220\n",
            "Iteration 92100, Loss: 0.4215\n",
            "Iteration 92250, Loss: 0.4210\n",
            "Iteration 92400, Loss: 0.4204\n",
            "Iteration 92550, Loss: 0.4199\n",
            "Iteration 92700, Loss: 0.4193\n",
            "Iteration 92850, Loss: 0.4188\n",
            "Iteration 93000, Loss: 0.4182\n",
            "Iteration 93150, Loss: 0.4177\n",
            "Iteration 93300, Loss: 0.4172\n",
            "Iteration 93450, Loss: 0.4166\n",
            "Iteration 93600, Loss: 0.4161\n",
            "Iteration 93750, Loss: 0.4156\n",
            "Iteration 93900, Loss: 0.4150\n",
            "Iteration 94050, Loss: 0.4145\n",
            "Iteration 94200, Loss: 0.4140\n",
            "Iteration 94350, Loss: 0.4135\n",
            "Iteration 94500, Loss: 0.4129\n",
            "Iteration 94650, Loss: 0.4124\n",
            "Iteration 94800, Loss: 0.4119\n",
            "Iteration 94950, Loss: 0.4114\n",
            "Iteration 95100, Loss: 0.4109\n",
            "Iteration 95250, Loss: 0.4103\n",
            "Iteration 95400, Loss: 0.4098\n",
            "Iteration 95550, Loss: 0.4093\n",
            "Iteration 95700, Loss: 0.4088\n",
            "Iteration 95850, Loss: 0.4083\n",
            "Iteration 96000, Loss: 0.4078\n",
            "Iteration 96150, Loss: 0.4073\n",
            "Iteration 96300, Loss: 0.4068\n",
            "Iteration 96450, Loss: 0.4063\n",
            "Iteration 96600, Loss: 0.4058\n",
            "Iteration 96750, Loss: 0.4053\n",
            "Iteration 96900, Loss: 0.4048\n",
            "Iteration 97050, Loss: 0.4043\n",
            "Iteration 97200, Loss: 0.4038\n",
            "Iteration 97350, Loss: 0.4033\n",
            "Iteration 97500, Loss: 0.4028\n",
            "Iteration 97650, Loss: 0.4023\n",
            "Iteration 97800, Loss: 0.4018\n",
            "Iteration 97950, Loss: 0.4013\n",
            "Iteration 98100, Loss: 0.4008\n",
            "Iteration 98250, Loss: 0.4004\n",
            "Iteration 98400, Loss: 0.3999\n",
            "Iteration 98550, Loss: 0.3994\n",
            "Iteration 98700, Loss: 0.3989\n",
            "Iteration 98850, Loss: 0.3984\n",
            "Iteration 99000, Loss: 0.3979\n",
            "Iteration 99150, Loss: 0.3975\n",
            "Iteration 99300, Loss: 0.3970\n",
            "Iteration 99450, Loss: 0.3965\n",
            "Iteration 99600, Loss: 0.3960\n",
            "Iteration 99750, Loss: 0.3956\n",
            "Iteration 99900, Loss: 0.3951\n"
          ]
        }
      ]
    },
    {
      "cell_type": "code",
      "source": [
        "def predict_multiclass(X, params):\n",
        "  params = forward_pass(X, params)\n",
        "\n",
        "  predictions = np.argmax(params['A2'], axis=1)\n",
        "  return predictions\n"
      ],
      "metadata": {
        "id": "E2YhFaQGV2F6"
      },
      "execution_count": 54,
      "outputs": []
    },
    {
      "cell_type": "code",
      "source": [
        "def confusion_matrix_multiclass(y_true, y_pred):\n",
        "  K = len(np.unique(y_true))\n",
        "  result = np.zeros((K, K))\n",
        "\n",
        "  for i in range(len(y_true)):\n",
        "    result[y_true[i]-1][y_pred[i]-1] += 1\n",
        "\n",
        "  return result"
      ],
      "metadata": {
        "id": "Iynav_3rcpRS"
      },
      "execution_count": 55,
      "outputs": []
    },
    {
      "cell_type": "code",
      "source": [
        "def precision_recall_f1_multiclass(y_true, y_pred):\n",
        "\n",
        "  c_matrix = confusion_matrix_multiclass(y_true, y_pred)\n",
        "  results = []\n",
        "  for i in range(c_matrix.shape[0]):\n",
        "    tp = c_matrix[i, i]\n",
        "    fp = c_matrix[:, i].sum() - tp\n",
        "    fn = c_matrix[i, :].sum() - tp\n",
        "    precision = tp / (tp + fp)\n",
        "    recall = tp / (tp + fn)\n",
        "    f1 = 2 * (precision * recall) / (precision + recall)\n",
        "    results.append({\n",
        "                    'class': i+1,\n",
        "                    'precision': round(precision, 3), 'recall': round(recall, 3),\n",
        "                    'f1': round(f1, 3)\n",
        "                    })\n",
        "  return results"
      ],
      "metadata": {
        "id": "1Fczm4hqc6IP"
      },
      "execution_count": 56,
      "outputs": []
    },
    {
      "cell_type": "code",
      "source": [
        "Y_pred = predict_multiclass(X_test, params)"
      ],
      "metadata": {
        "id": "B4cOBygSV2Ht"
      },
      "execution_count": 63,
      "outputs": []
    },
    {
      "cell_type": "code",
      "source": [
        "print(\"Glass dataset metrics with sigmoid:\")\n",
        "\n",
        "res_glass = precision_recall_f1_multiclass(Y_test.to_numpy().squeeze(), Y_pred.squeeze())\n",
        "\n",
        "print(\"GLASS = \")\n",
        "for res in res_glass:\n",
        "  print(res)\n",
        "\n",
        "\n"
      ],
      "metadata": {
        "colab": {
          "base_uri": "https://localhost:8080/"
        },
        "id": "RREx_tJBdHMl",
        "outputId": "1dad5de2-ff92-4c20-a0c1-5a8f6783b6c5"
      },
      "execution_count": 38,
      "outputs": [
        {
          "output_type": "stream",
          "name": "stdout",
          "text": [
            "Glass dataset metrics with sigmoid:\n",
            "GLASS = \n",
            "{'class': 1, 'precision': 0.9, 'recall': 0.818, 'f1': 0.857}\n",
            "{'class': 2, 'precision': 0.812, 'recall': 0.929, 'f1': 0.867}\n",
            "{'class': 3, 'precision': 0.5, 'recall': 0.333, 'f1': 0.4}\n",
            "{'class': 4, 'precision': 1.0, 'recall': 0.875, 'f1': 0.933}\n",
            "{'class': 5, 'precision': 0.75, 'recall': 0.75, 'f1': 0.75}\n",
            "{'class': 6, 'precision': 0.75, 'recall': 1.0, 'f1': 0.857}\n"
          ]
        }
      ]
    },
    {
      "cell_type": "code",
      "source": [
        "print(\"Glass dataset metrics with sigmoid and more hidden layers:\")\n",
        "\n",
        "res_glass = precision_recall_f1_multiclass(Y_test.to_numpy().squeeze(), Y_pred.squeeze())\n",
        "\n",
        "print(\"GLASS = \")\n",
        "for res in res_glass:\n",
        "  print(res)"
      ],
      "metadata": {
        "colab": {
          "base_uri": "https://localhost:8080/"
        },
        "id": "SR2CflYC25uk",
        "outputId": "ad4e6c5a-02de-467a-a871-ffb3f18c727b"
      },
      "execution_count": 64,
      "outputs": [
        {
          "output_type": "stream",
          "name": "stdout",
          "text": [
            "Glass dataset metrics with sigmoid and mor ehidden layers:\n",
            "GLASS = \n",
            "{'class': 1, 'precision': 0.727, 'recall': 0.727, 'f1': 0.727}\n",
            "{'class': 2, 'precision': 0.714, 'recall': 0.714, 'f1': 0.714}\n",
            "{'class': 3, 'precision': 0.5, 'recall': 0.333, 'f1': 0.4}\n",
            "{'class': 4, 'precision': 0.875, 'recall': 0.875, 'f1': 0.875}\n",
            "{'class': 5, 'precision': 0.75, 'recall': 0.75, 'f1': 0.75}\n",
            "{'class': 6, 'precision': 0.75, 'recall': 1.0, 'f1': 0.857}\n"
          ]
        }
      ]
    },
    {
      "cell_type": "markdown",
      "source": [
        "Результат тільки погіршився."
      ],
      "metadata": {
        "id": "mU4KszJb3HWc"
      }
    },
    {
      "cell_type": "code",
      "source": [
        "print(\"Glass dataset metrics with relu:\")\n",
        "\n",
        "res_glass = precision_recall_f1_multiclass(Y_test.to_numpy().squeeze(), Y_pred.squeeze())\n",
        "\n",
        "print(\"GLASS = \")\n",
        "for res in res_glass:\n",
        "  print(res)"
      ],
      "metadata": {
        "colab": {
          "base_uri": "https://localhost:8080/"
        },
        "id": "TvSli03Vyt2J",
        "outputId": "d2aef01e-9050-4a7e-e226-2d1602bfecc0"
      },
      "execution_count": 45,
      "outputs": [
        {
          "output_type": "stream",
          "name": "stdout",
          "text": [
            "Glass dataset metrics with relu:\n",
            "GLASS = \n",
            "{'class': 1, 'precision': 0.727, 'recall': 0.727, 'f1': 0.727}\n",
            "{'class': 2, 'precision': 0.769, 'recall': 0.714, 'f1': 0.741}\n",
            "{'class': 3, 'precision': 0.5, 'recall': 0.667, 'f1': 0.571}\n",
            "{'class': 4, 'precision': 0.889, 'recall': 1.0, 'f1': 0.941}\n",
            "{'class': 5, 'precision': 0.5, 'recall': 0.5, 'f1': 0.5}\n",
            "{'class': 6, 'precision': 1.0, 'recall': 0.667, 'f1': 0.8}\n"
          ]
        }
      ]
    },
    {
      "cell_type": "markdown",
      "source": [
        "Клас 1: Точність (precision), повнота (recall), і F1-скор знизились зі зміною на ReLU. Це може свідчити про те, що для цього класу сигмоїда давала більш м'яку границю рішення, що краще підходила під розподіл даних.\n",
        "\n",
        "Клас 2: Схожа ситуація, де всі метрики знизились. Це може бути ознакою того, що лінійність ReLU не дозволяє ефективно розділити класи, які могли бути нелінійно розділені сигмоїдою.\n",
        "\n",
        "Клас 3: Незважаючи на зниження точності, повнота і F1-скор покращились. Це може означати, що ReLU краще виявляє позитивні випадки для цього класу.\n",
        "\n",
        "Клас 4: Всі показники високі і F1-скор навіть трохи покращився з ReLU. Можливо, ReLU допомагає краще розділити цей клас від інших.\n",
        "\n",
        "Клас 5 і 6: Точність і повнота знизились для класу 5, але точність значно покращилась для класу 6 зі зменшенням повноти."
      ],
      "metadata": {
        "id": "WLQni9945UE4"
      }
    },
    {
      "cell_type": "code",
      "source": [
        "print(\"Glass dataset metrics with tanh:\")\n",
        "\n",
        "res_glass = precision_recall_f1_multiclass(Y_test.to_numpy().squeeze(), Y_pred.squeeze())\n",
        "\n",
        "print(\"GLASS = \")\n",
        "for res in res_glass:\n",
        "  print(res)"
      ],
      "metadata": {
        "colab": {
          "base_uri": "https://localhost:8080/"
        },
        "id": "29cDU3vvyt9h",
        "outputId": "bc24d25d-cf5a-482c-8893-68b4ecb1cb21"
      },
      "execution_count": 58,
      "outputs": [
        {
          "output_type": "stream",
          "name": "stdout",
          "text": [
            "Glass dataset metrics with tanh:\n",
            "GLASS = \n",
            "{'class': 1, 'precision': 0.75, 'recall': 0.818, 'f1': 0.783}\n",
            "{'class': 2, 'precision': 0.846, 'recall': 0.786, 'f1': 0.815}\n",
            "{'class': 3, 'precision': 0.667, 'recall': 0.667, 'f1': 0.667}\n",
            "{'class': 4, 'precision': 1.0, 'recall': 0.875, 'f1': 0.933}\n",
            "{'class': 5, 'precision': 0.75, 'recall': 0.75, 'f1': 0.75}\n",
            "{'class': 6, 'precision': 0.75, 'recall': 1.0, 'f1': 0.857}\n"
          ]
        }
      ]
    },
    {
      "cell_type": "markdown",
      "source": [
        "Порівнявши результати з функцією активації сигмоїд та гіперболічного тангенса (tanh), можна зробити наступні спостереження:\n",
        "\n",
        "Клас 1: Після використання tanh точність знизилась, але повнота залишилась незмінною. F1-скор в результаті зменшився. Це може свідчити про те, що tanh не зміг так само ефективно розділити цей клас як сигмоїд.\n",
        "\n",
        "Клас 2: Точність підвищилась при використанні tanh, однак повнота знизилась. Загалом F1-скор трохи знизився, що вказує на те, що tanh може бути більш селективним, але менш чутливим.\n",
        "\n",
        "Клас 3: Значення всіх метрик підвищилися з використанням tanh, що може бути вказівкою на те, що ця функція активації краще впоралася з розділенням цього класу.\n",
        "\n",
        "Клас 4: Метрики залишилися незмінними, що свідчить про те, що обидві функції активації однаково ефективно працюють з цим класом.\n",
        "\n",
        "Клас 5: Не було змін у метриках між tanh та сигмоїдою, що показує, що обидві функції активації мають схожу ефективність для цього класу.\n",
        "\n",
        "Клас 6: Метрики залишилися стабільними, як і при використанні сигмоїдної функції активації.\n",
        "\n",
        "Загальний висновок полягає в тому, що використання tanh не привело до значного покращення результатів моделі. У деяких класах було невелике підвищення точності або повноти, але в цілому вплив був досить мінімальним або навіть негативним (як у випадку з класом 1). Це підкреслює важливість вибору відповідної функції активації на основі специфіки даних та задачі класифікації, а також необхідність експериментування з різними архітектурами та гіперпараметрами для досягнення оптимальної продуктивності."
      ],
      "metadata": {
        "id": "Qbs7kQfd3842"
      }
    },
    {
      "cell_type": "code",
      "source": [
        "plt.plot(losses)\n",
        "\n",
        "plt.xlabel('Iterations')\n",
        "plt.ylabel('Loss')\n",
        "plt.title('Training Loss for Glass Identification Dataset')\n",
        "\n",
        "plt.show()"
      ],
      "metadata": {
        "colab": {
          "base_uri": "https://localhost:8080/",
          "height": 472
        },
        "id": "0iBSp7k0dJiF",
        "outputId": "8c21cc37-9980-45ef-cec4-18de99bc727d"
      },
      "execution_count": 26,
      "outputs": [
        {
          "output_type": "display_data",
          "data": {
            "text/plain": [
              "<Figure size 640x480 with 1 Axes>"
            ],
            "image/png": "[encoded data removed]"
          },
          "metadata": {}
        }
      ]
    },
    {
      "cell_type": "code",
      "source": [
        "\n",
        "from sklearn.neural_network import MLPClassifier\n",
        "from sklearn.metrics import classification_report\n",
        "\n",
        "clf = MLPClassifier(hidden_layer_sizes=(n_hidden,), max_iter=1000, alpha=0.01, solver='sgd', verbose=100, random_state=42, learning_rate_init=.01)\n",
        "\n",
        "clf.fit(X_train, Y_train.to_numpy().ravel())\n",
        "\n",
        "Y_pred_sklearn = clf.predict(X_test)"
      ],
      "metadata": {
        "id": "w6bh5sezdxfI"
      },
      "execution_count": null,
      "outputs": []
    },
    {
      "cell_type": "code",
      "source": [
        "res_glass_sklearn = precision_recall_f1_multiclass(Y_test.to_numpy().squeeze(), Y_pred_sklearn.squeeze())\n",
        "\n",
        "print(\"GLASS SKLEARN = \")\n",
        "for res in res_glass_sklearn:\n",
        "  print(res)"
      ],
      "metadata": {
        "colab": {
          "base_uri": "https://localhost:8080/"
        },
        "id": "QDsfcN2Iq8vQ",
        "outputId": "40a6d958-dbe5-4139-9748-3c2e6b2a94da"
      },
      "execution_count": 31,
      "outputs": [
        {
          "output_type": "stream",
          "name": "stdout",
          "text": [
            "GLASS SKLEARN = \n",
            "{'class': 1, 'precision': 0.769, 'recall': 0.909, 'f1': 0.833}\n",
            "{'class': 2, 'precision': 0.786, 'recall': 0.786, 'f1': 0.786}\n",
            "{'class': 3, 'precision': 0.5, 'recall': 0.333, 'f1': 0.4}\n",
            "{'class': 4, 'precision': 1.0, 'recall': 1.0, 'f1': 1.0}\n",
            "{'class': 5, 'precision': 0.5, 'recall': 0.5, 'f1': 0.5}\n",
            "{'class': 6, 'precision': 1.0, 'recall': 0.667, 'f1': 0.8}\n"
          ]
        }
      ]
    },
    {
      "cell_type": "markdown",
      "source": [
        "Клас 1: Моя модель має вищу точність (precision), але нижчу повноту (recall) порівняно з моделлю sklearn. Моя модель краще уникає помилкових позитивних результатів для класу 1, але пропускає більше реальних позитивних результатів.\n",
        "\n",
        "Клас 2: Точність моєї моделі трохи вища, а повнота значно вища, що свідчить про краще виявлення справжніх позитивних результатів для класу 2, хоча і з деякою кількістю помилкових позитивних.\n",
        "\n",
        "Клас 3: Обидві моделі показують однакові результати. Можливо, це найважчий клас для класифікації, і його покращення потребує додаткових даних або кращої обробки особливостей.\n",
        "\n",
        "Клас 4: Обидві моделі ідентифікували всі зразки класу 4 правильно (у sklearn моделі і повнота, і точність дорівнюють 1), але моя модель має трохи меншу повноту, що може вказувати на один пропущений справжній позитивний результат.\n",
        "\n",
        "Клас 5: Моя модель показує кращі результати за всіма показниками порівняно з моделлю sklearn. Це може свідчити про те, що моя модель краще налаштована на визначення цього класу.\n",
        "\n",
        "Клас 6: Моя модель має нижчу точність, але вищу повноту, ніж модель sklearn. Це означає, що моя модель краще виявляє справжні позитивні результати, але також допускає більше помилкових позитивних.\n",
        "\n",
        "Загалом, моя модель здається більш збалансованою в термінах повноти, особливо в класах, де sklearn модель має недоліки. Точність моєї моделі також є конкурентною, крім класу 6. Це може свідчити про те, що моя модель може бути більш корисною в ситуаціях, де важливіше зменшити кількість пропущених справжніх позитивних результатів, ніж помилкових позитивних."
      ],
      "metadata": {
        "id": "XNpjVbmDsYcz"
      }
    },
    {
      "cell_type": "markdown",
      "source": [
        "## Аналіз помилок.\n",
        "\n",
        "\n",
        "Загалом при будь-яких функціях активації постійно бачимо тотально поганий результат для 3го класу. Майже бездоганний для 4. Тобто, можна бачити, що якість залежить від кількості даних, адже в даному датасеті є явний дизбаланс. Дивним було те, що при релу активації якість для третього класу сильно підвищилася, хоча для інших впала. Тому, для бездоганного результата треба більш грунтовно змінювати архітектуру мережі."
      ],
      "metadata": {
        "id": "9vn9CpspPIsI"
      }
    },
    {
      "cell_type": "markdown",
      "source": [
        "1. Нейронні мережі — це математичні моделі, які імітують роботу людського мозку, використовуючи велику кількість взаємопов'язаних простих обчислювальних елементів, що звуться \"нейронами\".\n",
        "\n",
        "Основні елементи нейронної мережі включають:\n",
        "1. Вхідний шар (Input Layer): Це шар, який приймає вхідні дані. Кількість нейронів у вхідному шарі зазвичай відповідає кількості ознак вхідних даних.\n",
        "2. Приховані шари (Hidden Layers): Це шари між вхідним і вихідним шарами. Нейронна мережа може мати один або кілька прихованих шарів. Кожен прихований шар складається з декількох нейронів, кожен з яких виконує певну лінійну та не лінійну обчислювальну операцію.\n",
        "3. Вихідний шар (Output Layer): Це останній шар у нейронній мережі, який видає результати передбачення. Кількість нейронів у вихідному шарі відповідає кількості цільових класів для задачі класифікації.\n",
        "4. Ваги та зміщення (Weights and Biases): Ваги - це параметри, що визначають силу впливу кожного вхідного нейрона на кожен вихідний нейрон. Зміщення - це додаткові параметри, які дозволяють кожному нейрону робити більш гнучкі передбачення.\n",
        "5. Функції активації (Activation Functions): Функції активації використовуються для введення нелінійності в нейронну мережу, що дозволяє їй моделювати більш складні залежності. Найпоширенішими функціями активації є ReLU (Rectified Linear Unit), сигмоїдна функція, та softmax-функція."
      ],
      "metadata": {
        "id": "9yjpzGpLQOue"
      }
    },
    {
      "cell_type": "markdown",
      "source": [
        "2. Градієнтний спуск є основним методом оптимізації, використовуваним для тренування нейронних мереж. Градієнтний спуск працює, оновлюючи параметри моделі (ваги і зміщення) таким чином, що мінімізує помилку передбачення моделі на тренувальних даних. Це робиться шляхом визначення градієнта (або нахилу) функції втрат моделі з відношенням до параметрів, і оновлення параметрів у протилежному напрямку до градієнта."
      ],
      "metadata": {
        "id": "PiWA0xk-QOwx"
      }
    },
    {
      "cell_type": "markdown",
      "source": [
        "3. В обох випадках процес тренування нейронної мережі майже однаковий. Головна відмінність полягає в тому, як обчислюються втрати та яка активаційна функція використовується в останньому шарі мережі."
      ],
      "metadata": {
        "id": "VstTpnTiQvMS"
      }
    },
    {
      "cell_type": "markdown",
      "source": [
        "4. В нейронних мережах використовуються різні активаційні функції для введення нелінійності в процес обчислення, що дозволяє мережі вчитися складніші шаблони і функції, які не можуть бути представлені лінійними моделями. До популярних активаційних функцій належать:\n",
        "\n",
        " - Сигмоїда: Виводить значення між 0 та 1, що є корисним для моделювання ймовірності в задачах бінарної класифікації.\n",
        " - Гіперболічний тангенс (tanh): Виводить значення між -1 та 1, центруючи дані таким чином, що негативні вхідні значення відображаються на негативний вихід.\n",
        " - ReLU (Rectified Linear Unit): Виводить 0 для негативних значень та зберігає позитивні значення без змін, що прискорює навчання та зменшує ймовірність зникнення градієнтів.\n",
        " - Leaky ReLU: Варіація ReLU, яка дозволяє малому градієнту \"просочуватися\" через негативні значення, запобігаючи проблемі вмираючих нейронів.\n",
        " - Softmax: Використовується у вихідному шарі мережі для многокласової класифікації, виводячи ймовірність кожного класу таким чином, що сума ймовірностей усіх класів дорівнює 1.\n",
        "\n",
        " Кожна з цих функцій має свої особливості та найкраще підходить для різних типів задач та архітектур нейронних мереж. Вибір активаційної функції може суттєво вплинути на ефективність навчання та здатність моделі до"
      ],
      "metadata": {
        "id": "jxDMKnf1QvOW"
      }
    },
    {
      "cell_type": "markdown",
      "source": [
        "5. Функція втрат – це метрика, що використовується для кількісної оцінки того, наскільки добре модель передбачає вихідні дані. Вона вимірює різницю між передбаченнями моделі та істинними значеннями.\n",
        "Функція втрат Cross-Entropy Loss використовується у задачах класифікації для порівняння прогнозованих ймовірностей із справжніми мітками.\n",
        "\n",
        "Для задач класифікації часто використовуються такі функції втрат:\n",
        "\n",
        " - Перехресна ентропія (Cross-Entropy Loss): Це найпоширеніша функція втрат для задач бінарної та багатокласової класифікації. Вона вимірює розбіжність між фактичними мітками та прогнозованими ймовірностями, прагнучи мінімізувати цю розбіжність.\n",
        "\n",
        " - Функція втрат з маржою (Hinge Loss): Часто використовується з методами підтримки векторних машин (SVM) для задач класифікації. Вона вимірює помилку з урахуванням визначеного порогу (маржі).\n",
        "\n",
        " - Функція втрат категоричної перехресної ентропії (Categorical Cross-Entropy Loss): Розширення перехресної ентропії для багатокласових задач класифікації, де кожен вихід мережі представляє ймовірність належності до конкретного класу.\n",
        "\n",
        " - Sparse Categorical Cross-Entropy Loss: Використовується, коли фактичні мітки представлені як цілі числа, а не one-hot вектори. Це ефективніше з точки зору пам'яті для задач з великою кількістю класів.\n",
        "\n",
        " - Фокальна втрата (Focal Loss): Варіант перехресної ентропії, який призначений для зосередження більшої уваги на важких або погано класифікованих прикладах, і часто використовується для задач об'єктного виявлення, де існує дисбаланс класів.\n",
        "\n",
        "Вибір функції втрат залежить від конкретної задачі, розподілу даних та бажаної поведінки моделі під час навчання."
      ],
      "metadata": {
        "id": "jIZAjC8_QvQK"
      }
    },
    {
      "cell_type": "markdown",
      "source": [
        "6. Обираючи архітектуру нейронної мережі для задачі класифікації, важливо почати з базової моделі і працювати з ітераціями. Якщо задача не дуже складна і даних небагато, може підійти проста повнозв'язна мережа. Для зображень часто використовуються конволюційні нейронні мережі, що ефективно розпізнають візуальні шаблони. При роботі з послідовностями, такими як текст або часові ряди, зазвичай краще підходять рекурентні нейронні мережі або LSTM. Великі та складні датасети можуть вимагати глибших архітектур з більшою кількістю шарів. Експериментування з різними конфігураціями та налаштуваннями, включаючи розмір шарів, кількість шарів, функції активації та методи регуляризації, є ключем до знаходження найкращої архітектури для конкретної задачі."
      ],
      "metadata": {
        "id": "7QLG5qNLQvSi"
      }
    },
    {
      "cell_type": "markdown",
      "source": [
        "7.  \n",
        " - Підготовка даних: Збір та очищення даних, розділення на тренувальний, валідаційний та тестовий набори.\n",
        " - Вибір архітектури: Визначення структури мережі, кількості шарів, нейронів у кожному шарі, типу активаційної функції.\n",
        " - Ініціалізація ваг: Ваги можуть бути ініціалізовані випадково або за допомогою більш складних методів ініціалізації.\n",
        " - Вибір функції втрат та оптимізатора: Вибір метрик для вимірювання помилок і алгоритмів для коригування ваг.\n",
        " - Навчання: Подача даних через мережу, розрахунок втрат, зворотне поширення помилки для оновлення ваг.\n",
        " - Оцінка та налаштування: Використання валідаційного набору даних для оцінки моделі та налаштування гіперпараметрів.\n",
        " - Тестування: Оцінка кінцевої моделі на тестовому наборі даних для перевірки її здатності до узагальнення.\n",
        "\n",
        "Ці кроки можуть включати ітерації та тонке налаштування, залежно від результатів, отриманих під час валідації та тестування."
      ],
      "metadata": {
        "id": "GbyLWqFRQvUm"
      }
    },
    {
      "cell_type": "markdown",
      "source": [
        "8. Keras є високорівневою нейронною мережевою бібліотекою, яка працює як інтерфейс для бібліотеки TensorFlow. Вона дозволяє швидко та зручно створювати різноманітні архітектури нейронних мереж з підтримкою майже усіх стандартних типів мереж. За допомогою Keras можна легко конструювати тренувальні моделі, використовуючи послідовний (Sequential) або функціональний API, де користувач може стекувати шари або створювати комплексні архітектури. Також, Keras надає зручні засоби для компіляції моделі, вказуючи оптимізатор, функцію втрат та метрики оцінки, після чого можна легко тренувати модель на даних, використовуючи метод fit. Keras також підтримує зворотні виклики (callbacks) для моніторингу тренування, ранньої зупинки (early stopping), збереження кращих моделей та інше, що робить процес тренування контрольованим та ефективним."
      ],
      "metadata": {
        "id": "ExEwRUZKQvW8"
      }
    },
    {
      "cell_type": "markdown",
      "source": [
        "9.\n",
        "- Accuracy: Відсоток правильно класифікованих випадків з усіх проб.\n",
        "- Precision: Частка правильно ідентифікованих позитивних результатів серед усіх позитивних результатів, які передбачила модель.\n",
        "- Recall: Частка правильно ідентифікованих позитивних результатів серед усіх фактичних позитивних випадків.\n",
        "- F1-score: Гармонійне середнє точності та повноти, корисне для оцінки балансу між цими двома метриками.\n",
        "- ROC-AUC: Площа під кривою оператора отримання характеристики, що оцінює здатність моделі розрізняти класи.\n",
        "- Матриця помилок: Таблиця, що показує плутанину між фактичними та передбачуваними класами.\n",
        "- Валідація: Використання невидимих даних (валідаційного набору) для перевірки моделі під час тренування.\n",
        "- Крос-валідація: Тренування моделі на різних підмножинах даних та валідація на відповідних комплементарних підмножинах для забезпечення стійкості моделі.\n",
        "- Лосс: Оцінка функції втрат на тестових даних може дати зрозуміння загальної ефективності."
      ],
      "metadata": {
        "id": "IXMevUNWQvZB"
      }
    },
    {
      "cell_type": "markdown",
      "source": [
        "10. - Перенавчання (Overfitting): коли мережа добре працює на тренувальних даних, але погано на нових даних. Це можна вирішити за допомогою методів регуляризації, таких як Dropout, або застосуванням технік збільшення даних (data augmentation).\n",
        "\n",
        " - Недонавчання (Underfitting): коли мережа не в змозі захопити закономірності в даних, що часто відбувається через надто просту модель або недостатнє тренування. Рішення може полягати у збільшенні складності моделі або тривалішому тренуванні.\n",
        "\n",
        " - Зникнення або вибух градієнтів (Vanishing/Exploding Gradients): коли градієнти стають дуже малими або великими, що ускладнює оновлення ваг. Використання нормалізації шарів, на кшталт Batch Normalization, та ініціалізація ваг Хе або Глорота може допомогти.\n",
        "\n",
        " - Невідповідність розмірностей (Dimension Mismatch): помилки у вхідних або вихідних розмірностях даних. Перевірка та коректування розмірностей на кожному етапі може бути рішенням. Моя найбільша проблема)\n",
        "\n",
        " - Нестача даних: якщо даних недостатньо для тренування, можна використовувати збільшення даних або передатреновані моделі (transfer learning).\n",
        "\n",
        " - Складність обчислень: нейронні мережі можуть вимагати значних обчислювальних ресурсів, особливо під час тренування глибоких мереж. Використання GPU або розподілених систем може допомогти.\n",
        "\n",
        " - Підбір гіперпараметрів: неправильно вибрані гіперпараметри можуть ускладнити тренування. Автоматичний підбір гіперпараметрів за допомогою таких методів, як сітчастий пошук (grid search) або випадковий пошук (random search), може бути корисним.\n",
        "\n",
        " - Дисбаланс класів: якщо деякі класи представлені набагато менше, ніж інші, модель може виявитись упередженою. Техніки збалансування даних, як-от ваги класів або синтетичне генерування даних (SMOTE), можуть допомогти."
      ],
      "metadata": {
        "id": "JWQvi4RaQva2"
      }
    }
  ]
}